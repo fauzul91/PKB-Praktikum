{
  "cells": [
    {
      "cell_type": "markdown",
      "metadata": {
        "id": "raadsZsVgnz6"
      },
      "source": [
        "# Breadth-First Search (BFS)\n"
      ]
    },
    {
      "cell_type": "code",
      "execution_count": 1,
      "metadata": {
        "colab": {
          "base_uri": "https://localhost:8080/"
        },
        "id": "svZOggLTeViT",
        "outputId": "1d072978-483f-4e71-a4bb-a163c3b953bd"
      },
      "outputs": [
        {
          "name": "stdout",
          "output_type": "stream",
          "text": [
            "Urutan Kunjungan Breadth-First Search (BFS):\n",
            "0 1 2 3 4 "
          ]
        }
      ],
      "source": [
        "# 1. Membuat Graf dan menuliskan node-node yang ada pada graf\n",
        "graph = {\n",
        "    '0' : ['1','2','3'],\n",
        "    '1' : ['0', '2'],\n",
        "    '2' : ['0','1','4'],\n",
        "    '3' : ['0'],\n",
        "    '4' : ['2']\n",
        "      }\n",
        "\n",
        "# 2. Membuat list kosong untuk menyimpan node yang dikunjungi dan antrian\n",
        "visited = []   # List untuk melacak node yang sudah dikunjungi\n",
        "queue = []     # Inisialisasi antrian untuk BFS\n",
        "\n",
        "# 3. Definisi fungsi BFS\n",
        "def bfs(visited, graph, node):\n",
        "     visited.append(node)\n",
        "     queue.append(node)\n",
        "     while queue:\n",
        "      m = queue.pop(0) # Dequeue node pertama\n",
        "      print (m, end = \" \") # Cetak node saat ini\n",
        "\n",
        "      for neighbour in graph[m]:\n",
        "        if neighbour not in visited:\n",
        "          visited.append(neighbour)\n",
        "          queue.append(neighbour)\n",
        "\n",
        "# 4. Memanggil fungsi BFS\n",
        "print(\"Urutan Kunjungan Breadth-First Search (BFS):\")\n",
        "bfs(visited, graph, '0')"
      ]
    },
    {
      "cell_type": "markdown",
      "metadata": {
        "id": "BExJihQpg_VD"
      },
      "source": [
        "# Depth First Search (DFS)"
      ]
    },
    {
      "cell_type": "code",
      "execution_count": null,
      "metadata": {
        "colab": {
          "base_uri": "https://localhost:8080/"
        },
        "id": "Wk5cOZ21hEBa",
        "outputId": "f04e95c1-56ae-4f11-82f1-6654f57479ea"
      },
      "outputs": [
        {
          "name": "stdout",
          "output_type": "stream",
          "text": [
            "Urutan Kunjungan Depth-First Search (DFS):\n",
            "0 1 2 4 3 "
          ]
        }
      ],
      "source": [
        "# 1. Mendefinisikan graf sebagai dictionary (sama dengan di atas)\n",
        "graph = {\n",
        "    '0': ['1', '2', '3'],\n",
        "    '1': ['0', '2'],\n",
        "    '2': ['0', '1', '4'],\n",
        "    '3': ['0'],\n",
        "    '4': ['2']\n",
        "}\n",
        "\n",
        "# 2. Membuat set kosong untuk menyimpan node yang dikunjungi\n",
        "visited = set()   # Set untuk melacak node yang sudah dikunjungi\n",
        "\n",
        "# 3. Definisi fungsi DFS\n",
        "def dfs(visited, graph, node):\n",
        "    if node not in visited:\n",
        "        print(node, end=\" \")  # Cetak node saat ini\n",
        "        visited.add(node)   # Tandai node sebagai dikunjungi\n",
        "\n",
        "        # Mengeksplorasi tetangganya\n",
        "        for tetangga in graph[node]:\n",
        "            dfs(visited, graph, tetangga)\n",
        "\n",
        "# 4. Memanggil fungsi DFS\n",
        "print(\"Urutan Kunjungan Depth-First Search (DFS):\")\n",
        "dfs(visited, graph, '0')\n"
      ]
    },
    {
      "cell_type": "markdown",
      "metadata": {},
      "source": [
        "# Tugas Soal BFS"
      ]
    },
    {
      "cell_type": "code",
      "execution_count": 18,
      "metadata": {},
      "outputs": [
        {
          "name": "stdout",
          "output_type": "stream",
          "text": [
            "a b c d e f "
          ]
        }
      ],
      "source": [
        "graph = {\n",
        "    'a' : ['b', 'c'],\n",
        "    'b' : ['a', 'd', 'e'],\n",
        "    'c' : ['a'],\n",
        "    'd' : ['b', 'e', 'f'],\n",
        "    'e' : ['b', 'd'],\n",
        "    'f' : ['d'] \n",
        "}\n",
        "\n",
        "visited = [] #menampung tetangga yang sudah dikunjungi\n",
        "queue = [] #menampung antrian\n",
        "\n",
        "def bfs(visited, graph, node): #node ini adalah titik awal dimulainya pencarian\n",
        "    visited.append(node)\n",
        "    queue.append(node)\n",
        "    while queue:\n",
        "        m = queue.pop(0)\n",
        "        print(m, end=' ')\n",
        "\n",
        "        for neighbor in graph[m]:\n",
        "            if neighbor not in visited:\n",
        "                visited.append(neighbor)\n",
        "                queue.append(neighbor)\n",
        "\n",
        "bfs(visited, graph, 'a')"
      ]
    },
    {
      "cell_type": "markdown",
      "metadata": {},
      "source": [
        "# Tugas Soal DFS"
      ]
    },
    {
      "cell_type": "code",
      "execution_count": 19,
      "metadata": {},
      "outputs": [
        {
          "name": "stdout",
          "output_type": "stream",
          "text": [
            "a b d e f c "
          ]
        }
      ],
      "source": [
        "graph = {\n",
        "    'a' : ['b', 'c'],\n",
        "    'b' : ['a', 'd', 'e'],\n",
        "    'c' : ['a'],\n",
        "    'd' : ['b', 'e', 'f'],\n",
        "    'e' : ['b', 'd'],\n",
        "    'f' : ['d']\n",
        "}\n",
        "\n",
        "visited = set() #menampung tetangga yang uda dikunjungi\n",
        "\n",
        "def dfs(visited, graph, node): \n",
        "    if node not in visited:\n",
        "        print(node, end=\" \")  # Cetak node saat ini\n",
        "        visited.add(node)   # Tandai node sebagai dikunjungi\n",
        "\n",
        "        for tetangga in graph[node]:\n",
        "            dfs(visited, graph, tetangga)\n",
        "\n",
        "dfs(visited, graph, 'a')"
      ]
    }
  ],
  "metadata": {
    "colab": {
      "provenance": []
    },
    "kernelspec": {
      "display_name": "Python 3",
      "name": "python3"
    },
    "language_info": {
      "codemirror_mode": {
        "name": "ipython",
        "version": 3
      },
      "file_extension": ".py",
      "mimetype": "text/x-python",
      "name": "python",
      "nbconvert_exporter": "python",
      "pygments_lexer": "ipython3",
      "version": "3.12.4"
    }
  },
  "nbformat": 4,
  "nbformat_minor": 0
}
