{
 "cells": [
  {
   "cell_type": "markdown",
   "metadata": {},
   "source": [
    "# Import Library"
   ]
  },
  {
   "cell_type": "code",
   "execution_count": 8,
   "metadata": {},
   "outputs": [],
   "source": [
    "import pandas as pd\n",
    "import numpy as np\n",
    "import matplotlib.pyplot as plt"
   ]
  },
  {
   "cell_type": "markdown",
   "metadata": {},
   "source": [
    "# Soal 1"
   ]
  },
  {
   "cell_type": "markdown",
   "metadata": {},
   "source": [
    "### Gunakan pustaka numpy untuk membuat matriks 3x3 berisi angka 1-9, kemudian lakukan perkalian skalar dengan 2"
   ]
  },
  {
   "cell_type": "code",
   "execution_count": 9,
   "metadata": {},
   "outputs": [
    {
     "name": "stdout",
     "output_type": "stream",
     "text": [
      "[2 4 6]\n",
      "[ 8 10 12]\n",
      "[14 16 18]\n"
     ]
    }
   ],
   "source": [
    "matriks = np.array(\n",
    "    [[1, 2, 3], \n",
    "    [4, 5, 6], \n",
    "    [7, 8, 9]])\n",
    "\n",
    "k = 2\n",
    "\n",
    "hasilSkalar = matriks * k\n",
    "\n",
    "for i in hasilSkalar:\n",
    "    print(i)"
   ]
  },
  {
   "cell_type": "markdown",
   "metadata": {},
   "source": [
    "# Soal 2"
   ]
  },
  {
   "cell_type": "markdown",
   "metadata": {},
   "source": [
    "### Dengan pustaka pandas, buatlah dataframe sederhana dari data mahasiswa yang mencakup NIM, nama, dan nilai (data dari 3 mahasiswa)"
   ]
  },
  {
   "cell_type": "code",
   "execution_count": 10,
   "metadata": {},
   "outputs": [
    {
     "data": {
      "text/html": [
       "<div>\n",
       "<style scoped>\n",
       "    .dataframe tbody tr th:only-of-type {\n",
       "        vertical-align: middle;\n",
       "    }\n",
       "\n",
       "    .dataframe tbody tr th {\n",
       "        vertical-align: top;\n",
       "    }\n",
       "\n",
       "    .dataframe thead th {\n",
       "        text-align: right;\n",
       "    }\n",
       "</style>\n",
       "<table border=\"1\" class=\"dataframe\">\n",
       "  <thead>\n",
       "    <tr style=\"text-align: right;\">\n",
       "      <th></th>\n",
       "      <th>Nama</th>\n",
       "      <th>NIM</th>\n",
       "      <th>Nilai</th>\n",
       "    </tr>\n",
       "  </thead>\n",
       "  <tbody>\n",
       "    <tr>\n",
       "      <th>0</th>\n",
       "      <td>Andre Firmansyah</td>\n",
       "      <td>232410101037</td>\n",
       "      <td>85</td>\n",
       "    </tr>\n",
       "    <tr>\n",
       "      <th>1</th>\n",
       "      <td>Rahmat Fauzul Akbar</td>\n",
       "      <td>232410101063</td>\n",
       "      <td>90</td>\n",
       "    </tr>\n",
       "    <tr>\n",
       "      <th>2</th>\n",
       "      <td>Brillian Maulana Syah</td>\n",
       "      <td>232410101070</td>\n",
       "      <td>98</td>\n",
       "    </tr>\n",
       "  </tbody>\n",
       "</table>\n",
       "</div>"
      ],
      "text/plain": [
       "                    Nama           NIM  Nilai\n",
       "0       Andre Firmansyah  232410101037     85\n",
       "1    Rahmat Fauzul Akbar  232410101063     90\n",
       "2  Brillian Maulana Syah  232410101070     98"
      ]
     },
     "execution_count": 10,
     "metadata": {},
     "output_type": "execute_result"
    }
   ],
   "source": [
    "dataMahasiswa = {\n",
    "    'Nama': [\"Andre Firmansyah\", \"Rahmat Fauzul Akbar\", \"Brillian Maulana Syah\"],\n",
    "    'NIM' : [232410101037, 232410101063, 232410101070],\n",
    "    'Nilai': [85, 90, 98]\n",
    "}\n",
    "\n",
    "dataMahasiswa = pd.DataFrame(dataMahasiswa)\n",
    "dataMahasiswa"
   ]
  },
  {
   "cell_type": "markdown",
   "metadata": {},
   "source": [
    "# Soal 3"
   ]
  },
  {
   "cell_type": "markdown",
   "metadata": {},
   "source": [
    "### Visualisasikan data nilai mahasiswa tersebut dengan pustaka Matplotlib"
   ]
  },
  {
   "cell_type": "code",
   "execution_count": 11,
   "metadata": {},
   "outputs": [],
   "source": [
    "dataNama = dataMahasiswa.Nama\n",
    "dataNilai = dataMahasiswa.Nilai"
   ]
  },
  {
   "cell_type": "code",
   "execution_count": 12,
   "metadata": {},
   "outputs": [
    {
     "data": {
      "text/plain": [
       "[<matplotlib.lines.Line2D at 0x2454f4546e0>]"
      ]
     },
     "execution_count": 12,
     "metadata": {},
     "output_type": "execute_result"
    },
    {
     "data": {
      "image/png": "[encoded data removed]",
      "text/plain": [
       "<Figure size 640x480 with 1 Axes>"
      ]
     },
     "metadata": {},
     "output_type": "display_data"
    }
   ],
   "source": [
    "plt.plot(dataNama, dataNilai)"
   ]
  },
  {
   "cell_type": "code",
   "execution_count": 9,
   "metadata": {},
   "outputs": [],
   "source": [
    "data_tuple = ('Sistem Informasi', 'Teknologi Informasi', 'Informatika', 'Fakultas Ilmu Komputer')\n",
    "akses_tuple = data_tuple[1:3:1]"
   ]
  },
  {
   "cell_type": "markdown",
   "metadata": {},
   "source": [
    "Diberikan dua buah list sebagai berikut: \n",
    "```python\n",
    "listA = [1, 3, 5, 7]\n",
    "listB = [2, 4, 6, 8]\n",
    "```\n",
    "\n",
    "Manipulasilah list tersebut seingga menghasilkan output di bawah ini:\n",
    "```python\n",
    "Output = (8, 2, 3, 5)\n",
    "```"
   ]
  },
  {
   "cell_type": "code",
   "execution_count": 44,
   "metadata": {},
   "outputs": [
    {
     "name": "stdout",
     "output_type": "stream",
     "text": [
      "Output: (2, 8, 3, 5)\n"
     ]
    }
   ],
   "source": [
    "listA = [1, 3, 5, 7]\n",
    "listB = [2, 4, 6, 8]\n",
    "\n",
    "listA_baru = listA[1:3] \n",
    "listB_baru = listB[0:4:3]\n",
    "\n",
    "Output = tuple(listB_baru + listA_baru)\n",
    "print(f'Output: {Output}')"
   ]
  },
  {
   "cell_type": "markdown",
   "metadata": {},
   "source": [
    "Mang Ucup sang owner niagara fruit memiliki segudang buah yang sangat banyak. Ada apel, strawberry, buah naga, anggur, dan pisang. Karena banyak banget, dia pengen ngejadiin dalam satu list buah.  \n",
    "```python\n",
    "buah = [\"apel\", \"strawberry\", \"buah naga\", \"alpukat\", \"anggur\", \"pisang\"]\n",
    "```\n",
    "\n",
    "Dia iseng pengen mix apel sama pisang, strawberry sama anggur, terus buah naga sama alpukat. Keisengannya berlanjut, dia pengen ngomongnya dari belakang. Bantu mang ucup untuk mewudujkan keisengannya \n",
    "```python\n",
    "Output = [\"lepa ngasip\", \"yrrebwarts ruggna\", \"bagan habu takupla\"]\n",
    "```"
   ]
  },
  {
   "cell_type": "code",
   "execution_count": 57,
   "metadata": {},
   "outputs": [
    {
     "name": "stdout",
     "output_type": "stream",
     "text": [
      "['lepa gnasip', 'yrrebwarts ruggna', 'yrrebwarts takupla']\n"
     ]
    }
   ],
   "source": [
    "buah = [\"apel\", \"strawberry\", \"buah naga\", \"alpukat\", \"anggur\", \"pisang\"]\n",
    "buah[0] = buah[0][::-1]\n",
    "buah[1] = buah[1][::-1]\n",
    "buah[2] = buah[2][::-1]\n",
    "buah[3] = buah[3][::-1]\n",
    "buah[4] = buah[4][::-1]\n",
    "buah[5] = buah[5][::-1]\n",
    "\n",
    "buahUcup = []\n",
    "\n",
    "buahAwal = buah.pop(0)\n",
    "buahAkhir = buah.pop(-1)\n",
    "buahUcup.append(buahAwal + \" \" + buahAkhir)\n",
    "\n",
    "buahAwalKedua = buah.pop(0)\n",
    "buahAkhirKedua = buah.pop(-1)\n",
    "buahUcup.append(buahAwalKedua + \" \" + buahAkhirKedua)\n",
    "\n",
    "buahAwalKetiga = buah.pop(0)\n",
    "buahAkhirKetiga = buah.pop(-1)\n",
    "buahUcup.append(buahAwalKedua + \" \" + buahAkhirKetiga)\n",
    "\n",
    "print(buahUcup)"
   ]
  }
 ],
 "metadata": {
  "kernelspec": {
   "display_name": "Python 3",
   "language": "python",
   "name": "python3"
  },
  "language_info": {
   "codemirror_mode": {
    "name": "ipython",
    "version": 3
   },
   "file_extension": ".py",
   "mimetype": "text/x-python",
   "name": "python",
   "nbconvert_exporter": "python",
   "pygments_lexer": "ipython3",
   "version": "3.12.4"
  }
 },
 "nbformat": 4,
 "nbformat_minor": 2
}
